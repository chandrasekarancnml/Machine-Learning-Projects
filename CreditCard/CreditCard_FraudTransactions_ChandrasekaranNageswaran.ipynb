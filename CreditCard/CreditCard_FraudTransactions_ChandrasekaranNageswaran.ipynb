{
  "nbformat": 4,
  "nbformat_minor": 0,
  "metadata": {
    "colab": {
      "name": "CreditCard_FraudTransactions.ipynb",
      "version": "0.3.2",
      "provenance": [],
      "collapsed_sections": [
        "bM0nXMjmnTDG",
        "fUBGZbknetPU",
        "DvFDnfeUIW3I"
      ],
      "toc_visible": true
    },
    "kernelspec": {
      "name": "python3",
      "display_name": "Python 3"
    }
  },
  "cells": [
    {
      "cell_type": "code",
      "metadata": {
        "id": "vbLXsoAyiZ-A",
        "colab_type": "code",
        "colab": {}
      },
      "source": [
        "import numpy as np\n",
        "import pandas as pd\n",
        "\n",
        "import matplotlib.pyplot as plt\n",
        "%matplotlib inline\n",
        "\n",
        "import seaborn as sns"
      ],
      "execution_count": 0,
      "outputs": []
    },
    {
      "cell_type": "code",
      "metadata": {
        "id": "t5TwWlS3ktXD",
        "colab_type": "code",
        "colab": {}
      },
      "source": [
        "from imblearn.over_sampling import SMOTE, ADASYN\n",
        "\n",
        "from sklearn.model_selection import train_test_split\n",
        "from sklearn.preprocessing import  OneHotEncoder as ohe\n",
        "from sklearn.preprocessing import StandardScaler as ss\n",
        "from sklearn.compose import ColumnTransformer as ct"
      ],
      "execution_count": 0,
      "outputs": []
    },
    {
      "cell_type": "code",
      "metadata": {
        "id": "dCcpjzP8iKRn",
        "colab_type": "code",
        "colab": {}
      },
      "source": [
        "from sklearn.linear_model import LogisticRegression\n",
        "from sklearn.tree import DecisionTreeClassifier\n",
        "from sklearn.ensemble import RandomForestClassifier"
      ],
      "execution_count": 0,
      "outputs": []
    },
    {
      "cell_type": "code",
      "metadata": {
        "id": "9dYZ9fPYk1yX",
        "colab_type": "code",
        "colab": {}
      },
      "source": [
        "#import scikitplot as skplt\n",
        "from sklearn.metrics import confusion_matrix\n",
        "from sklearn.metrics import average_precision_score\n",
        "import sklearn.metrics as metrics\n",
        "from sklearn.metrics import f1_score, recall_score"
      ],
      "execution_count": 0,
      "outputs": []
    },
    {
      "cell_type": "markdown",
      "metadata": {
        "id": "S5S-S4s1ispz",
        "colab_type": "text"
      },
      "source": [
        "Load the data"
      ]
    },
    {
      "cell_type": "code",
      "metadata": {
        "id": "4sxVxE8oiu_p",
        "colab_type": "code",
        "colab": {}
      },
      "source": [
        "from google.colab import drive\n",
        "drive.mount(\"/content/drive\")"
      ],
      "execution_count": 0,
      "outputs": []
    },
    {
      "cell_type": "code",
      "metadata": {
        "id": "7BEU9OWbizx2",
        "colab_type": "code",
        "outputId": "e9b4b238-0186-4240-93b6-5526259e0516",
        "colab": {
          "base_uri": "https://localhost:8080/",
          "height": 326
        }
      },
      "source": [
        "path = \"/content/drive/My Drive/FinalProject/datasetForFinalAssignment.csv\"\n",
        "transactions = pd.read_csv(path)\n",
        "transactions.head()"
      ],
      "execution_count": 210,
      "outputs": [
        {
          "output_type": "execute_result",
          "data": {
            "text/html": [
              "<div>\n",
              "<style scoped>\n",
              "    .dataframe tbody tr th:only-of-type {\n",
              "        vertical-align: middle;\n",
              "    }\n",
              "\n",
              "    .dataframe tbody tr th {\n",
              "        vertical-align: top;\n",
              "    }\n",
              "\n",
              "    .dataframe thead th {\n",
              "        text-align: right;\n",
              "    }\n",
              "</style>\n",
              "<table border=\"1\" class=\"dataframe\">\n",
              "  <thead>\n",
              "    <tr style=\"text-align: right;\">\n",
              "      <th></th>\n",
              "      <th>Column 1</th>\n",
              "      <th>user_id</th>\n",
              "      <th>signup_time</th>\n",
              "      <th>purchase_time</th>\n",
              "      <th>signup_time-purchase_time</th>\n",
              "      <th>purchase_value</th>\n",
              "      <th>device_id</th>\n",
              "      <th>source</th>\n",
              "      <th>browser</th>\n",
              "      <th>sex</th>\n",
              "      <th>age</th>\n",
              "      <th>ip_address</th>\n",
              "      <th>class</th>\n",
              "      <th>N[device_id]</th>\n",
              "    </tr>\n",
              "  </thead>\n",
              "  <tbody>\n",
              "    <tr>\n",
              "      <th>0</th>\n",
              "      <td>149671</td>\n",
              "      <td>285108</td>\n",
              "      <td>07/15/2015 4:36 AM</td>\n",
              "      <td>09/10/2015 2:17 PM</td>\n",
              "      <td>82661</td>\n",
              "      <td>31</td>\n",
              "      <td>HZAKVUFTDOSFD</td>\n",
              "      <td>Direct</td>\n",
              "      <td>Chrome</td>\n",
              "      <td>M</td>\n",
              "      <td>49</td>\n",
              "      <td>2.818400e+09</td>\n",
              "      <td>0</td>\n",
              "      <td>2</td>\n",
              "    </tr>\n",
              "    <tr>\n",
              "      <th>1</th>\n",
              "      <td>84546</td>\n",
              "      <td>229053</td>\n",
              "      <td>01/07/2015 1:19 PM</td>\n",
              "      <td>01/09/2015 10:12 AM</td>\n",
              "      <td>2693</td>\n",
              "      <td>29</td>\n",
              "      <td>MFFIHYNXCJLEY</td>\n",
              "      <td>SEO</td>\n",
              "      <td>Chrome</td>\n",
              "      <td>M</td>\n",
              "      <td>34</td>\n",
              "      <td>2.083420e+09</td>\n",
              "      <td>0</td>\n",
              "      <td>1</td>\n",
              "    </tr>\n",
              "    <tr>\n",
              "      <th>2</th>\n",
              "      <td>35978</td>\n",
              "      <td>108439</td>\n",
              "      <td>02/08/2015 9:11 PM</td>\n",
              "      <td>04/09/2015 2:26 PM</td>\n",
              "      <td>85995</td>\n",
              "      <td>26</td>\n",
              "      <td>WMSXWGVPNIFBM</td>\n",
              "      <td>Ads</td>\n",
              "      <td>FireFox</td>\n",
              "      <td>M</td>\n",
              "      <td>33</td>\n",
              "      <td>3.207913e+09</td>\n",
              "      <td>0</td>\n",
              "      <td>1</td>\n",
              "    </tr>\n",
              "    <tr>\n",
              "      <th>3</th>\n",
              "      <td>103053</td>\n",
              "      <td>178528</td>\n",
              "      <td>04/20/2015 8:19 PM</td>\n",
              "      <td>08/03/2015 8:17 PM</td>\n",
              "      <td>151198</td>\n",
              "      <td>35</td>\n",
              "      <td>HUFZWLDYJPRCK</td>\n",
              "      <td>SEO</td>\n",
              "      <td>Chrome</td>\n",
              "      <td>F</td>\n",
              "      <td>30</td>\n",
              "      <td>2.550204e+09</td>\n",
              "      <td>0</td>\n",
              "      <td>1</td>\n",
              "    </tr>\n",
              "    <tr>\n",
              "      <th>4</th>\n",
              "      <td>101025</td>\n",
              "      <td>70424</td>\n",
              "      <td>07/05/2015 4:54 PM</td>\n",
              "      <td>08/25/2015 4:08 PM</td>\n",
              "      <td>73394</td>\n",
              "      <td>43</td>\n",
              "      <td>YDLNPVEWMTMMZ</td>\n",
              "      <td>Direct</td>\n",
              "      <td>IE</td>\n",
              "      <td>M</td>\n",
              "      <td>40</td>\n",
              "      <td>3.310808e+09</td>\n",
              "      <td>0</td>\n",
              "      <td>1</td>\n",
              "    </tr>\n",
              "  </tbody>\n",
              "</table>\n",
              "</div>"
            ],
            "text/plain": [
              "   Column 1  user_id         signup_time  ...    ip_address  class  N[device_id]\n",
              "0    149671   285108  07/15/2015 4:36 AM  ...  2.818400e+09      0             2\n",
              "1     84546   229053  01/07/2015 1:19 PM  ...  2.083420e+09      0             1\n",
              "2     35978   108439  02/08/2015 9:11 PM  ...  3.207913e+09      0             1\n",
              "3    103053   178528  04/20/2015 8:19 PM  ...  2.550204e+09      0             1\n",
              "4    101025    70424  07/05/2015 4:54 PM  ...  3.310808e+09      0             1\n",
              "\n",
              "[5 rows x 14 columns]"
            ]
          },
          "metadata": {
            "tags": []
          },
          "execution_count": 210
        }
      ]
    },
    {
      "cell_type": "code",
      "metadata": {
        "id": "B4mAvvkPjC9J",
        "colab_type": "code",
        "outputId": "af36489f-c420-4b0f-cdee-3b6ac04a19da",
        "colab": {
          "base_uri": "https://localhost:8080/",
          "height": 68
        }
      },
      "source": [
        "transactions[\"class\"].value_counts(normalize=True)"
      ],
      "execution_count": 211,
      "outputs": [
        {
          "output_type": "execute_result",
          "data": {
            "text/plain": [
              "0    0.906187\n",
              "1    0.093813\n",
              "Name: class, dtype: float64"
            ]
          },
          "metadata": {
            "tags": []
          },
          "execution_count": 211
        }
      ]
    },
    {
      "cell_type": "code",
      "metadata": {
        "id": "y8w4ryDUjKhN",
        "colab_type": "code",
        "outputId": "04d1e86c-ce1a-44a1-935d-9644e26d37a5",
        "colab": {
          "base_uri": "https://localhost:8080/",
          "height": 300
        }
      },
      "source": [
        "sns.countplot(x=\"class\", data=transactions)"
      ],
      "execution_count": 212,
      "outputs": [
        {
          "output_type": "execute_result",
          "data": {
            "text/plain": [
              "<matplotlib.axes._subplots.AxesSubplot at 0x7f88db0327b8>"
            ]
          },
          "metadata": {
            "tags": []
          },
          "execution_count": 212
        },
        {
          "output_type": "display_data",
          "data": {
            "image/png": "[encoded data removed]",
            "text/plain": [
              "<Figure size 432x288 with 1 Axes>"
            ]
          },
          "metadata": {
            "tags": []
          }
        }
      ]
    },
    {
      "cell_type": "markdown",
      "metadata": {
        "id": "lYWwCFO2lnZM",
        "colab_type": "text"
      },
      "source": [
        "From the above diagram, we can infer that the data is highly imbalanced and any predictions will lead to non-fraudlent decisions. Hence, we need to balance the data using SMOTE library"
      ]
    },
    {
      "cell_type": "markdown",
      "metadata": {
        "id": "bM0nXMjmnTDG",
        "colab_type": "text"
      },
      "source": [
        "## Data Processing"
      ]
    },
    {
      "cell_type": "code",
      "metadata": {
        "id": "NUkCh5lMjaF7",
        "colab_type": "code",
        "outputId": "aaf459a0-8da9-47c7-dbfd-286b541cd531",
        "colab": {
          "base_uri": "https://localhost:8080/",
          "height": 340
        }
      },
      "source": [
        "transactions.info()"
      ],
      "execution_count": 213,
      "outputs": [
        {
          "output_type": "stream",
          "text": [
            "<class 'pandas.core.frame.DataFrame'>\n",
            "RangeIndex: 74691 entries, 0 to 74690\n",
            "Data columns (total 14 columns):\n",
            "Column 1                     74691 non-null int64\n",
            "user_id                      74691 non-null int64\n",
            "signup_time                  74691 non-null object\n",
            "purchase_time                74691 non-null object\n",
            "signup_time-purchase_time    74691 non-null int64\n",
            "purchase_value               74691 non-null int64\n",
            "device_id                    74691 non-null object\n",
            "source                       74691 non-null object\n",
            "browser                      74691 non-null object\n",
            "sex                          74691 non-null object\n",
            "age                          74691 non-null int64\n",
            "ip_address                   74691 non-null float64\n",
            "class                        74691 non-null int64\n",
            "N[device_id]                 74691 non-null int64\n",
            "dtypes: float64(1), int64(7), object(6)\n",
            "memory usage: 8.0+ MB\n"
          ],
          "name": "stdout"
        }
      ]
    },
    {
      "cell_type": "code",
      "metadata": {
        "id": "BamU7YPerFWR",
        "colab_type": "code",
        "colab": {
          "base_uri": "https://localhost:8080/",
          "height": 326
        },
        "outputId": "7122a750-387a-4f3b-fb27-62c25f333ae5"
      },
      "source": [
        "dataCopy = transactions.copy()"
      ],
      "execution_count": 215,
      "outputs": [
        {
          "output_type": "execute_result",
          "data": {
            "text/html": [
              "<div>\n",
              "<style scoped>\n",
              "    .dataframe tbody tr th:only-of-type {\n",
              "        vertical-align: middle;\n",
              "    }\n",
              "\n",
              "    .dataframe tbody tr th {\n",
              "        vertical-align: top;\n",
              "    }\n",
              "\n",
              "    .dataframe thead th {\n",
              "        text-align: right;\n",
              "    }\n",
              "</style>\n",
              "<table border=\"1\" class=\"dataframe\">\n",
              "  <thead>\n",
              "    <tr style=\"text-align: right;\">\n",
              "      <th></th>\n",
              "      <th>Column 1</th>\n",
              "      <th>user_id</th>\n",
              "      <th>signup_time</th>\n",
              "      <th>purchase_time</th>\n",
              "      <th>signup_time-purchase_time</th>\n",
              "      <th>purchase_value</th>\n",
              "      <th>device_id</th>\n",
              "      <th>source</th>\n",
              "      <th>browser</th>\n",
              "      <th>sex</th>\n",
              "      <th>age</th>\n",
              "      <th>ip_address</th>\n",
              "      <th>class</th>\n",
              "      <th>N[device_id]</th>\n",
              "    </tr>\n",
              "  </thead>\n",
              "  <tbody>\n",
              "    <tr>\n",
              "      <th>0</th>\n",
              "      <td>149671</td>\n",
              "      <td>285108</td>\n",
              "      <td>07/15/2015 4:36 AM</td>\n",
              "      <td>09/10/2015 2:17 PM</td>\n",
              "      <td>82661</td>\n",
              "      <td>31</td>\n",
              "      <td>HZAKVUFTDOSFD</td>\n",
              "      <td>Direct</td>\n",
              "      <td>Chrome</td>\n",
              "      <td>M</td>\n",
              "      <td>49</td>\n",
              "      <td>2.818400e+09</td>\n",
              "      <td>0</td>\n",
              "      <td>2</td>\n",
              "    </tr>\n",
              "    <tr>\n",
              "      <th>1</th>\n",
              "      <td>84546</td>\n",
              "      <td>229053</td>\n",
              "      <td>01/07/2015 1:19 PM</td>\n",
              "      <td>01/09/2015 10:12 AM</td>\n",
              "      <td>2693</td>\n",
              "      <td>29</td>\n",
              "      <td>MFFIHYNXCJLEY</td>\n",
              "      <td>SEO</td>\n",
              "      <td>Chrome</td>\n",
              "      <td>M</td>\n",
              "      <td>34</td>\n",
              "      <td>2.083420e+09</td>\n",
              "      <td>0</td>\n",
              "      <td>1</td>\n",
              "    </tr>\n",
              "    <tr>\n",
              "      <th>2</th>\n",
              "      <td>35978</td>\n",
              "      <td>108439</td>\n",
              "      <td>02/08/2015 9:11 PM</td>\n",
              "      <td>04/09/2015 2:26 PM</td>\n",
              "      <td>85995</td>\n",
              "      <td>26</td>\n",
              "      <td>WMSXWGVPNIFBM</td>\n",
              "      <td>Ads</td>\n",
              "      <td>FireFox</td>\n",
              "      <td>M</td>\n",
              "      <td>33</td>\n",
              "      <td>3.207913e+09</td>\n",
              "      <td>0</td>\n",
              "      <td>1</td>\n",
              "    </tr>\n",
              "    <tr>\n",
              "      <th>3</th>\n",
              "      <td>103053</td>\n",
              "      <td>178528</td>\n",
              "      <td>04/20/2015 8:19 PM</td>\n",
              "      <td>08/03/2015 8:17 PM</td>\n",
              "      <td>151198</td>\n",
              "      <td>35</td>\n",
              "      <td>HUFZWLDYJPRCK</td>\n",
              "      <td>SEO</td>\n",
              "      <td>Chrome</td>\n",
              "      <td>F</td>\n",
              "      <td>30</td>\n",
              "      <td>2.550204e+09</td>\n",
              "      <td>0</td>\n",
              "      <td>1</td>\n",
              "    </tr>\n",
              "    <tr>\n",
              "      <th>4</th>\n",
              "      <td>101025</td>\n",
              "      <td>70424</td>\n",
              "      <td>07/05/2015 4:54 PM</td>\n",
              "      <td>08/25/2015 4:08 PM</td>\n",
              "      <td>73394</td>\n",
              "      <td>43</td>\n",
              "      <td>YDLNPVEWMTMMZ</td>\n",
              "      <td>Direct</td>\n",
              "      <td>IE</td>\n",
              "      <td>M</td>\n",
              "      <td>40</td>\n",
              "      <td>3.310808e+09</td>\n",
              "      <td>0</td>\n",
              "      <td>1</td>\n",
              "    </tr>\n",
              "  </tbody>\n",
              "</table>\n",
              "</div>"
            ],
            "text/plain": [
              "   Column 1  user_id         signup_time  ...    ip_address  class  N[device_id]\n",
              "0    149671   285108  07/15/2015 4:36 AM  ...  2.818400e+09      0             2\n",
              "1     84546   229053  01/07/2015 1:19 PM  ...  2.083420e+09      0             1\n",
              "2     35978   108439  02/08/2015 9:11 PM  ...  3.207913e+09      0             1\n",
              "3    103053   178528  04/20/2015 8:19 PM  ...  2.550204e+09      0             1\n",
              "4    101025    70424  07/05/2015 4:54 PM  ...  3.310808e+09      0             1\n",
              "\n",
              "[5 rows x 14 columns]"
            ]
          },
          "metadata": {
            "tags": []
          },
          "execution_count": 215
        }
      ]
    },
    {
      "cell_type": "code",
      "metadata": {
        "id": "hRCR8duWne7d",
        "colab_type": "code",
        "colab": {}
      },
      "source": [
        "y = transactions[\"class\"]\n",
        "transactions.drop(columns = [\"Column 1\", \"user_id\",\"device_id\",\"class\",\"signup_time\",\"purchase_time\",\"ip_address\"], inplace=True)"
      ],
      "execution_count": 0,
      "outputs": []
    },
    {
      "cell_type": "code",
      "metadata": {
        "id": "bBHmg5DBpAlg",
        "colab_type": "code",
        "outputId": "752f60c3-4b6f-4734-9666-56b5faab55a0",
        "colab": {
          "base_uri": "https://localhost:8080/",
          "height": 221
        }
      },
      "source": [
        "transactions.info()"
      ],
      "execution_count": 217,
      "outputs": [
        {
          "output_type": "stream",
          "text": [
            "<class 'pandas.core.frame.DataFrame'>\n",
            "RangeIndex: 74691 entries, 0 to 74690\n",
            "Data columns (total 7 columns):\n",
            "signup_time-purchase_time    74691 non-null int64\n",
            "purchase_value               74691 non-null int64\n",
            "source                       74691 non-null object\n",
            "browser                      74691 non-null object\n",
            "sex                          74691 non-null object\n",
            "age                          74691 non-null int64\n",
            "N[device_id]                 74691 non-null int64\n",
            "dtypes: int64(4), object(3)\n",
            "memory usage: 4.0+ MB\n"
          ],
          "name": "stdout"
        }
      ]
    },
    {
      "cell_type": "code",
      "metadata": {
        "id": "GwSxdoLUqVk4",
        "colab_type": "code",
        "colab": {}
      },
      "source": [
        "transactions[\"sex\"] = transactions[\"sex\"].map({'M':1,'F':0})"
      ],
      "execution_count": 0,
      "outputs": []
    },
    {
      "cell_type": "code",
      "metadata": {
        "id": "jSZo4LgppCP7",
        "colab_type": "code",
        "outputId": "4ace7d59-2d0d-4498-fd93-cd119206b9f5",
        "colab": {
          "base_uri": "https://localhost:8080/",
          "height": 204
        }
      },
      "source": [
        "transactions.head(5)"
      ],
      "execution_count": 219,
      "outputs": [
        {
          "output_type": "execute_result",
          "data": {
            "text/html": [
              "<div>\n",
              "<style scoped>\n",
              "    .dataframe tbody tr th:only-of-type {\n",
              "        vertical-align: middle;\n",
              "    }\n",
              "\n",
              "    .dataframe tbody tr th {\n",
              "        vertical-align: top;\n",
              "    }\n",
              "\n",
              "    .dataframe thead th {\n",
              "        text-align: right;\n",
              "    }\n",
              "</style>\n",
              "<table border=\"1\" class=\"dataframe\">\n",
              "  <thead>\n",
              "    <tr style=\"text-align: right;\">\n",
              "      <th></th>\n",
              "      <th>signup_time-purchase_time</th>\n",
              "      <th>purchase_value</th>\n",
              "      <th>source</th>\n",
              "      <th>browser</th>\n",
              "      <th>sex</th>\n",
              "      <th>age</th>\n",
              "      <th>N[device_id]</th>\n",
              "    </tr>\n",
              "  </thead>\n",
              "  <tbody>\n",
              "    <tr>\n",
              "      <th>0</th>\n",
              "      <td>82661</td>\n",
              "      <td>31</td>\n",
              "      <td>Direct</td>\n",
              "      <td>Chrome</td>\n",
              "      <td>1</td>\n",
              "      <td>49</td>\n",
              "      <td>2</td>\n",
              "    </tr>\n",
              "    <tr>\n",
              "      <th>1</th>\n",
              "      <td>2693</td>\n",
              "      <td>29</td>\n",
              "      <td>SEO</td>\n",
              "      <td>Chrome</td>\n",
              "      <td>1</td>\n",
              "      <td>34</td>\n",
              "      <td>1</td>\n",
              "    </tr>\n",
              "    <tr>\n",
              "      <th>2</th>\n",
              "      <td>85995</td>\n",
              "      <td>26</td>\n",
              "      <td>Ads</td>\n",
              "      <td>FireFox</td>\n",
              "      <td>1</td>\n",
              "      <td>33</td>\n",
              "      <td>1</td>\n",
              "    </tr>\n",
              "    <tr>\n",
              "      <th>3</th>\n",
              "      <td>151198</td>\n",
              "      <td>35</td>\n",
              "      <td>SEO</td>\n",
              "      <td>Chrome</td>\n",
              "      <td>0</td>\n",
              "      <td>30</td>\n",
              "      <td>1</td>\n",
              "    </tr>\n",
              "    <tr>\n",
              "      <th>4</th>\n",
              "      <td>73394</td>\n",
              "      <td>43</td>\n",
              "      <td>Direct</td>\n",
              "      <td>IE</td>\n",
              "      <td>1</td>\n",
              "      <td>40</td>\n",
              "      <td>1</td>\n",
              "    </tr>\n",
              "  </tbody>\n",
              "</table>\n",
              "</div>"
            ],
            "text/plain": [
              "   signup_time-purchase_time  purchase_value  source  ... sex  age  N[device_id]\n",
              "0                      82661              31  Direct  ...   1   49             2\n",
              "1                       2693              29     SEO  ...   1   34             1\n",
              "2                      85995              26     Ads  ...   1   33             1\n",
              "3                     151198              35     SEO  ...   0   30             1\n",
              "4                      73394              43  Direct  ...   1   40             1\n",
              "\n",
              "[5 rows x 7 columns]"
            ]
          },
          "metadata": {
            "tags": []
          },
          "execution_count": 219
        }
      ]
    },
    {
      "cell_type": "markdown",
      "metadata": {
        "id": "PXDdo6hNrWk5",
        "colab_type": "text"
      },
      "source": [
        ""
      ]
    },
    {
      "cell_type": "markdown",
      "metadata": {
        "id": "qiEVYPrDHDGO",
        "colab_type": "text"
      },
      "source": [
        "Standaradize the integer variables using Standard Scaler and convert the categorical variables into integer by using dummy variable. Both can be done using column transformter"
      ]
    },
    {
      "cell_type": "markdown",
      "metadata": {
        "colab_type": "text",
        "id": "6oWJLlyVH5L5"
      },
      "source": [
        "Convert object variables into integer by using dummy variables"
      ]
    },
    {
      "cell_type": "code",
      "metadata": {
        "id": "MsdZncMrVPJ-",
        "colab_type": "code",
        "colab": {}
      },
      "source": [
        "all_columns = transactions.columns"
      ],
      "execution_count": 0,
      "outputs": []
    },
    {
      "cell_type": "code",
      "metadata": {
        "id": "MquBgx4qFZ36",
        "colab_type": "code",
        "colab": {
          "base_uri": "https://localhost:8080/",
          "height": 105
        },
        "cellView": "both",
        "outputId": "6f97396c-cb82-4eda-db40-cba080cf44f5"
      },
      "source": [
        "num_columns = transactions[['signup_time-purchase_time','purchase_value','age','sex','N[device_id]']]\n",
        "stdScalar = ss()\n",
        "stdScalar.fit(num_columns)\n",
        "scaled_Transactions = stdScalar.transform(num_columns)\n"
      ],
      "execution_count": 221,
      "outputs": [
        {
          "output_type": "stream",
          "text": [
            "/usr/local/lib/python3.6/dist-packages/sklearn/preprocessing/data.py:645: DataConversionWarning: Data with input dtype int64 were all converted to float64 by StandardScaler.\n",
            "  return self.partial_fit(X, y)\n",
            "/usr/local/lib/python3.6/dist-packages/ipykernel_launcher.py:4: DataConversionWarning: Data with input dtype int64 were all converted to float64 by StandardScaler.\n",
            "  after removing the cwd from sys.path.\n"
          ],
          "name": "stderr"
        }
      ]
    },
    {
      "cell_type": "code",
      "metadata": {
        "id": "cKDpt44EWClj",
        "colab_type": "code",
        "colab": {}
      },
      "source": [
        "df_scaledTransactions = pd.DataFrame(scaled_Transactions) #, index=scaled_Transactions.index, columns=num_columns)\n",
        "df_scaledTransactions.columns = ['signup_time-purchase_time','purchase_value','age','sex','N[device_id]']\n"
      ],
      "execution_count": 0,
      "outputs": []
    },
    {
      "cell_type": "code",
      "metadata": {
        "id": "WF2LBmh-bG0D",
        "colab_type": "code",
        "colab": {
          "base_uri": "https://localhost:8080/",
          "height": 34
        },
        "outputId": "196ca807-e986-496a-e248-19d12ed23254"
      },
      "source": [
        "type(df_scaledTransactions)"
      ],
      "execution_count": 151,
      "outputs": [
        {
          "output_type": "execute_result",
          "data": {
            "text/plain": [
              "pandas.core.frame.DataFrame"
            ]
          },
          "metadata": {
            "tags": []
          },
          "execution_count": 151
        }
      ]
    },
    {
      "cell_type": "code",
      "metadata": {
        "id": "O2Ds_JOBqqiB",
        "colab_type": "code",
        "colab": {}
      },
      "source": [
        "browser_transactions = pd.get_dummies(transactions.browser, prefix='Browser').iloc[:,1:]\n",
        "source_transactions = pd.get_dummies(transactions.source, prefix='Source').iloc[:,1:]"
      ],
      "execution_count": 0,
      "outputs": []
    },
    {
      "cell_type": "code",
      "metadata": {
        "id": "0yZbomYora9q",
        "colab_type": "code",
        "colab": {}
      },
      "source": [
        "X_transAndScaledData = pd.concat([df_scaledTransactions, browser_transactions, source_transactions], axis=1)"
      ],
      "execution_count": 0,
      "outputs": []
    },
    {
      "cell_type": "code",
      "metadata": {
        "id": "rU_B8RVZsmiW",
        "colab_type": "code",
        "outputId": "2d9ef0c4-6f21-45fb-b719-01a709111e18",
        "colab": {
          "base_uri": "https://localhost:8080/",
          "height": 289
        }
      },
      "source": [
        "X_transAndScaledData.info()"
      ],
      "execution_count": 155,
      "outputs": [
        {
          "output_type": "stream",
          "text": [
            "<class 'pandas.core.frame.DataFrame'>\n",
            "RangeIndex: 74691 entries, 0 to 74690\n",
            "Data columns (total 11 columns):\n",
            "signup_time-purchase_time    74691 non-null float64\n",
            "purchase_value               74691 non-null float64\n",
            "age                          74691 non-null float64\n",
            "sex                          74691 non-null float64\n",
            "N[device_id]                 74691 non-null float64\n",
            "Browser_FireFox              74691 non-null uint8\n",
            "Browser_IE                   74691 non-null uint8\n",
            "Browser_Opera                74691 non-null uint8\n",
            "Browser_Safari               74691 non-null uint8\n",
            "Source_Direct                74691 non-null uint8\n",
            "Source_SEO                   74691 non-null uint8\n",
            "dtypes: float64(5), uint8(6)\n",
            "memory usage: 3.3 MB\n"
          ],
          "name": "stdout"
        }
      ]
    },
    {
      "cell_type": "code",
      "metadata": {
        "id": "gWIB9pvDsn7a",
        "colab_type": "code",
        "outputId": "c3bf8388-c0d8-48bd-b0dd-542d796f4817",
        "colab": {
          "base_uri": "https://localhost:8080/",
          "height": 241
        }
      },
      "source": [
        "X_transAndScaledData.head()"
      ],
      "execution_count": 225,
      "outputs": [
        {
          "output_type": "execute_result",
          "data": {
            "text/html": [
              "<div>\n",
              "<style scoped>\n",
              "    .dataframe tbody tr th:only-of-type {\n",
              "        vertical-align: middle;\n",
              "    }\n",
              "\n",
              "    .dataframe tbody tr th {\n",
              "        vertical-align: top;\n",
              "    }\n",
              "\n",
              "    .dataframe thead th {\n",
              "        text-align: right;\n",
              "    }\n",
              "</style>\n",
              "<table border=\"1\" class=\"dataframe\">\n",
              "  <thead>\n",
              "    <tr style=\"text-align: right;\">\n",
              "      <th></th>\n",
              "      <th>signup_time-purchase_time</th>\n",
              "      <th>purchase_value</th>\n",
              "      <th>age</th>\n",
              "      <th>sex</th>\n",
              "      <th>N[device_id]</th>\n",
              "      <th>Browser_FireFox</th>\n",
              "      <th>Browser_IE</th>\n",
              "      <th>Browser_Opera</th>\n",
              "      <th>Browser_Safari</th>\n",
              "      <th>Source_Direct</th>\n",
              "      <th>Source_SEO</th>\n",
              "    </tr>\n",
              "  </thead>\n",
              "  <tbody>\n",
              "    <tr>\n",
              "      <th>0</th>\n",
              "      <td>0.009090</td>\n",
              "      <td>-0.320634</td>\n",
              "      <td>1.835765</td>\n",
              "      <td>0.845428</td>\n",
              "      <td>0.223419</td>\n",
              "      <td>0</td>\n",
              "      <td>0</td>\n",
              "      <td>0</td>\n",
              "      <td>0</td>\n",
              "      <td>1</td>\n",
              "      <td>0</td>\n",
              "    </tr>\n",
              "    <tr>\n",
              "      <th>1</th>\n",
              "      <td>-1.525820</td>\n",
              "      <td>-0.429593</td>\n",
              "      <td>0.099640</td>\n",
              "      <td>0.845428</td>\n",
              "      <td>-0.257486</td>\n",
              "      <td>0</td>\n",
              "      <td>0</td>\n",
              "      <td>0</td>\n",
              "      <td>0</td>\n",
              "      <td>0</td>\n",
              "      <td>1</td>\n",
              "    </tr>\n",
              "    <tr>\n",
              "      <th>2</th>\n",
              "      <td>0.073083</td>\n",
              "      <td>-0.593031</td>\n",
              "      <td>-0.016102</td>\n",
              "      <td>0.845428</td>\n",
              "      <td>-0.257486</td>\n",
              "      <td>1</td>\n",
              "      <td>0</td>\n",
              "      <td>0</td>\n",
              "      <td>0</td>\n",
              "      <td>0</td>\n",
              "      <td>0</td>\n",
              "    </tr>\n",
              "    <tr>\n",
              "      <th>3</th>\n",
              "      <td>1.324593</td>\n",
              "      <td>-0.102717</td>\n",
              "      <td>-0.363327</td>\n",
              "      <td>-1.182833</td>\n",
              "      <td>-0.257486</td>\n",
              "      <td>0</td>\n",
              "      <td>0</td>\n",
              "      <td>0</td>\n",
              "      <td>0</td>\n",
              "      <td>0</td>\n",
              "      <td>1</td>\n",
              "    </tr>\n",
              "    <tr>\n",
              "      <th>4</th>\n",
              "      <td>-0.168781</td>\n",
              "      <td>0.333118</td>\n",
              "      <td>0.794090</td>\n",
              "      <td>0.845428</td>\n",
              "      <td>-0.257486</td>\n",
              "      <td>0</td>\n",
              "      <td>1</td>\n",
              "      <td>0</td>\n",
              "      <td>0</td>\n",
              "      <td>1</td>\n",
              "      <td>0</td>\n",
              "    </tr>\n",
              "  </tbody>\n",
              "</table>\n",
              "</div>"
            ],
            "text/plain": [
              "   signup_time-purchase_time  purchase_value  ...  Source_Direct  Source_SEO\n",
              "0                   0.009090       -0.320634  ...              1           0\n",
              "1                  -1.525820       -0.429593  ...              0           1\n",
              "2                   0.073083       -0.593031  ...              0           0\n",
              "3                   1.324593       -0.102717  ...              0           1\n",
              "4                  -0.168781        0.333118  ...              1           0\n",
              "\n",
              "[5 rows x 11 columns]"
            ]
          },
          "metadata": {
            "tags": []
          },
          "execution_count": 225
        }
      ]
    },
    {
      "cell_type": "code",
      "metadata": {
        "id": "UFJ18VfhQnhR",
        "colab_type": "code",
        "colab": {
          "base_uri": "https://localhost:8080/",
          "height": 34
        },
        "outputId": "1576e5ac-9a27-4134-f717-3f5a9815bbd4"
      },
      "source": [
        "X_transAndScaledData.shape"
      ],
      "execution_count": 226,
      "outputs": [
        {
          "output_type": "execute_result",
          "data": {
            "text/plain": [
              "(74691, 11)"
            ]
          },
          "metadata": {
            "tags": []
          },
          "execution_count": 226
        }
      ]
    },
    {
      "cell_type": "markdown",
      "metadata": {
        "id": "fUBGZbknetPU",
        "colab_type": "text"
      },
      "source": [
        "## Data Modelling"
      ]
    },
    {
      "cell_type": "code",
      "metadata": {
        "id": "oW-oMYQOFAlI",
        "colab_type": "code",
        "colab": {}
      },
      "source": [
        "X_train, X_test, y_train, y_test,indicies_tr,indicies_test =  train_test_split(X_transAndScaledData,\n",
        "                                                      y,\n",
        "                                                      np.arange(X_transAndScaledData.shape[0]),\n",
        "                                                      train_size = 0.8,\n",
        "                                                      test_size = 0.2,                                                      \n",
        "                                                      )"
      ],
      "execution_count": 0,
      "outputs": []
    },
    {
      "cell_type": "code",
      "metadata": {
        "id": "HioOVttsfcKk",
        "colab_type": "code",
        "colab": {
          "base_uri": "https://localhost:8080/",
          "height": 34
        },
        "outputId": "d17750d4-c3fb-4708-b66e-f13b6aac821a"
      },
      "source": [
        "X_train.shape"
      ],
      "execution_count": 307,
      "outputs": [
        {
          "output_type": "execute_result",
          "data": {
            "text/plain": [
              "(59752, 11)"
            ]
          },
          "metadata": {
            "tags": []
          },
          "execution_count": 307
        }
      ]
    },
    {
      "cell_type": "code",
      "metadata": {
        "id": "tP3OwoGYMtaH",
        "colab_type": "code",
        "colab": {
          "base_uri": "https://localhost:8080/",
          "height": 119
        },
        "outputId": "7246c10d-6e82-4dd3-9a6e-1653237ce802"
      },
      "source": [
        "y_train.head()"
      ],
      "execution_count": 347,
      "outputs": [
        {
          "output_type": "execute_result",
          "data": {
            "text/plain": [
              "25277    0\n",
              "12019    0\n",
              "9958     0\n",
              "40334    1\n",
              "6238     0\n",
              "Name: class, dtype: int64"
            ]
          },
          "metadata": {
            "tags": []
          },
          "execution_count": 347
        }
      ]
    },
    {
      "cell_type": "code",
      "metadata": {
        "id": "3vkFnW4oyyAr",
        "colab_type": "code",
        "colab": {
          "base_uri": "https://localhost:8080/",
          "height": 119
        },
        "outputId": "22f91a81-8c71-4007-b164-074a0c459057"
      },
      "source": [
        "dataForCost = dataCopy.iloc[indicies_test]\n",
        "dataForCost.purchase_value.head()"
      ],
      "execution_count": 308,
      "outputs": [
        {
          "output_type": "execute_result",
          "data": {
            "text/plain": [
              "69232    10\n",
              "18680    33\n",
              "49613    26\n",
              "64125     9\n",
              "30876    66\n",
              "Name: purchase_value, dtype: int64"
            ]
          },
          "metadata": {
            "tags": []
          },
          "execution_count": 308
        }
      ]
    },
    {
      "cell_type": "code",
      "metadata": {
        "id": "aPvpPip3fe58",
        "colab_type": "code",
        "colab": {
          "base_uri": "https://localhost:8080/",
          "height": 34
        },
        "outputId": "410d2f9f-95e7-4573-ee3e-471e0b175fea"
      },
      "source": [
        "sm = SMOTE(random_state=42)\n",
        "X_res, y_res = sm.fit_sample(X_train, y_train)\n",
        "np.sum(y_res)/len(y_res)"
      ],
      "execution_count": 309,
      "outputs": [
        {
          "output_type": "execute_result",
          "data": {
            "text/plain": [
              "0.5"
            ]
          },
          "metadata": {
            "tags": []
          },
          "execution_count": 309
        }
      ]
    },
    {
      "cell_type": "code",
      "metadata": {
        "id": "6MpQP6JyjvVW",
        "colab_type": "code",
        "colab": {}
      },
      "source": [
        "def PrintStats(cmat, y_test, pred):\n",
        "   # separate out the confusion matrix components\n",
        "   tpos = cmat[0][0]\n",
        "   fneg = cmat[1][0]\n",
        "   fpos = cmat[0][1]\n",
        "   tneg = cmat[1][1]\n",
        "   print(cmat)\n",
        "  \n",
        "   print('True Positive:' + str(tpos))\n",
        "   print('False Negative:' + str(fneg))\n",
        "   print('False Positive:' + str(fpos))\n",
        "   print('True Negative:' + str(tneg))\n",
        "   \n",
        "   # calculate F!, Recall scores\n",
        "   f1Score = round(f1_score(y_test, pred), 2)\n",
        "   recallScore = round(recall_score(y_test, pred), 2)\n",
        "   # calculate and display metrics  \n",
        "   print( 'Accuracy: '+ str(np.round(100*float(tpos+fneg)/float(tpos+fneg + fpos + tneg),2))+'%')\n",
        "   #print( 'Cohen Kappa: '+ str(np.round(cohen_kappa_score(y_test, pred),3)))\n",
        "   print(\"Sensitivity/Recall for Model : {recall_score}\".format(recall_score = recallScore))\n",
        "   print(\"F1 Score for Model : {f1_score}\".format(f1_score = f1Score))"
      ],
      "execution_count": 0,
      "outputs": []
    },
    {
      "cell_type": "code",
      "metadata": {
        "id": "QQpEwAoj0Qbt",
        "colab_type": "code",
        "colab": {}
      },
      "source": [
        "def CalculateCost(actual,prediction,data):\n",
        "  #if model prediction is true, but it is actually false - this will cost $8 per customer\n",
        "  costofFalsePositive = data.purchase_value[(prediction==1) & (actual==0)].count() * 8  \n",
        "  print(\"Cost for false predicition: ${:.0f}\".format(costofFalsePositive))\n",
        "  #if model prediction is false, but it is actually true - this will cost the purchase value\n",
        "  costofFalseNegative = data.purchase_value[(prediction==0) & (actual==1)].sum()\n",
        "  print(\"Cost lost due to wrong predicution: ${:.0f}\".format(costofFalseNegative))\n",
        "  totalCost = costofFalsePositive + costofFalseNegative\n",
        "  print(\"total Cost ${:.0f}\".format(totalCost))\n",
        "  \n",
        "  #return totalCost"
      ],
      "execution_count": 0,
      "outputs": []
    },
    {
      "cell_type": "markdown",
      "metadata": {
        "id": "wZc29X9VkgOt",
        "colab_type": "text"
      },
      "source": [
        "**Model # 1 --- Logistic Regression**"
      ]
    },
    {
      "cell_type": "code",
      "metadata": {
        "colab_type": "code",
        "id": "DAGQTbvOhyED",
        "colab": {
          "base_uri": "https://localhost:8080/",
          "height": 71
        },
        "outputId": "e0309e9c-214b-493c-89c7-5bb6cd94e9ef"
      },
      "source": [
        "lr = LogisticRegression()\n",
        "lr.fit(X_res, y_res)\n",
        "Y_pred = lr.predict(X_test)\n",
        "lr_cnf_matrix = confusion_matrix(y_test, Y_pred)"
      ],
      "execution_count": 313,
      "outputs": [
        {
          "output_type": "stream",
          "text": [
            "/usr/local/lib/python3.6/dist-packages/sklearn/linear_model/logistic.py:433: FutureWarning: Default solver will be changed to 'lbfgs' in 0.22. Specify a solver to silence this warning.\n",
            "  FutureWarning)\n"
          ],
          "name": "stderr"
        }
      ]
    },
    {
      "cell_type": "code",
      "metadata": {
        "id": "3J1AFfixifet",
        "colab_type": "code",
        "colab": {
          "base_uri": "https://localhost:8080/",
          "height": 170
        },
        "outputId": "9295537c-e7d8-42e2-c46b-6afd2042d0d3"
      },
      "source": [
        "PrintStats(lr_cnf_matrix, y_test, Y_pred)\n"
      ],
      "execution_count": 314,
      "outputs": [
        {
          "output_type": "stream",
          "text": [
            "[[12801   778]\n",
            " [  467   893]]\n",
            "True Positive:12801\n",
            "False Negative:467\n",
            "False Positive:778\n",
            "True Negative:893\n",
            "Accuracy: 88.81%\n",
            "Sensitivity/Recall for Model : 0.66\n",
            "F1 Score for Model : 0.59\n"
          ],
          "name": "stdout"
        }
      ]
    },
    {
      "cell_type": "code",
      "metadata": {
        "id": "jT17h6-a6q9P",
        "colab_type": "code",
        "colab": {
          "base_uri": "https://localhost:8080/",
          "height": 68
        },
        "outputId": "8a03c086-0846-4a26-eec8-ad45ac24bd22"
      },
      "source": [
        "CalculateCost(y_test,Y_pred,dataForCost)"
      ],
      "execution_count": 325,
      "outputs": [
        {
          "output_type": "stream",
          "text": [
            "Cost for false predicition: $6224\n",
            "Cost lost due to wrong predicution: $17051\n",
            "total Cost $23275\n"
          ],
          "name": "stdout"
        }
      ]
    },
    {
      "cell_type": "code",
      "metadata": {
        "id": "RgKzP_WPG6o9",
        "colab_type": "code",
        "colab": {}
      },
      "source": [
        "Y_pred.tofile('test2.csv',sep=',')"
      ],
      "execution_count": 0,
      "outputs": []
    },
    {
      "cell_type": "markdown",
      "metadata": {
        "id": "5m87ofUbDsTP",
        "colab_type": "text"
      },
      "source": [
        "**Model # 2 - Decision Trees**"
      ]
    },
    {
      "cell_type": "code",
      "metadata": {
        "id": "V-9Bw_VCDrQG",
        "colab_type": "code",
        "colab": {}
      },
      "source": [
        "dt = DecisionTreeClassifier()\n",
        "dt.fit(X_res, y_res)\n",
        "Y_dt_pred = dt.predict(X_test)\n",
        "dt_cnf_matrix = confusion_matrix(y_test, Y_dt_pred)"
      ],
      "execution_count": 0,
      "outputs": []
    },
    {
      "cell_type": "code",
      "metadata": {
        "id": "8FHz7bLxE0ma",
        "colab_type": "code",
        "colab": {
          "base_uri": "https://localhost:8080/",
          "height": 170
        },
        "outputId": "78b0c22b-4b41-49fd-e9e3-18ffff717be2"
      },
      "source": [
        "PrintStats(rf_cnf_matrix, y_test, Y_dt_pred)"
      ],
      "execution_count": 329,
      "outputs": [
        {
          "output_type": "stream",
          "text": [
            "[[13209   370]\n",
            " [  592   768]]\n",
            "True Positive:13209\n",
            "False Negative:592\n",
            "False Positive:370\n",
            "True Negative:768\n",
            "Accuracy: 92.38%\n",
            "Sensitivity/Recall for Model : 0.58\n",
            "F1 Score for Model : 0.55\n"
          ],
          "name": "stdout"
        }
      ]
    },
    {
      "cell_type": "code",
      "metadata": {
        "id": "3kssLsmLE93H",
        "colab_type": "code",
        "colab": {
          "base_uri": "https://localhost:8080/",
          "height": 68
        },
        "outputId": "59c78231-e2a7-4d07-bb78-a6b0000817b5"
      },
      "source": [
        "CalculateCost(y_test, Y_dt_pred, dataForCost)"
      ],
      "execution_count": 330,
      "outputs": [
        {
          "output_type": "stream",
          "text": [
            "Cost for false predicition: $5824\n",
            "Cost lost due to wrong predicution: $20671\n",
            "total Cost $26495\n"
          ],
          "name": "stdout"
        }
      ]
    },
    {
      "cell_type": "markdown",
      "metadata": {
        "id": "V5D-OVxMkkRD",
        "colab_type": "text"
      },
      "source": [
        "**Model # 3 Random Forest**"
      ]
    },
    {
      "cell_type": "code",
      "metadata": {
        "id": "fvQIeUWkkoNc",
        "colab_type": "code",
        "colab": {}
      },
      "source": [
        "rf = RandomForestClassifier(n_estimators = 500, n_jobs =4)\n",
        "rf.fit(X_res, y_res)\n",
        "Y_rf_pred = rf.predict(X_test)\n",
        "rf_cnf_matrix = confusion_matrix(y_test, Y_rf_pred)"
      ],
      "execution_count": 0,
      "outputs": []
    },
    {
      "cell_type": "code",
      "metadata": {
        "id": "CkbBk7MrlF6Q",
        "colab_type": "code",
        "colab": {
          "base_uri": "https://localhost:8080/",
          "height": 170
        },
        "outputId": "2d537478-3a13-42c0-fa32-e80db22ec6b5"
      },
      "source": [
        "PrintStats(rf_cnf_matrix, y_test, Y_rf_pred)"
      ],
      "execution_count": 317,
      "outputs": [
        {
          "output_type": "stream",
          "text": [
            "[[13209   370]\n",
            " [  592   768]]\n",
            "True Positive:13209\n",
            "False Negative:592\n",
            "False Positive:370\n",
            "True Negative:768\n",
            "Accuracy: 92.38%\n",
            "Sensitivity/Recall for Model : 0.56\n",
            "F1 Score for Model : 0.61\n"
          ],
          "name": "stdout"
        }
      ]
    },
    {
      "cell_type": "code",
      "metadata": {
        "id": "gXmdWQIqr-Zj",
        "colab_type": "code",
        "colab": {
          "base_uri": "https://localhost:8080/",
          "height": 68
        },
        "outputId": "e58f7ff6-e497-4feb-82bf-0c8aa5d98a91"
      },
      "source": [
        "CalculateCost(y_test,Y_rf_pred,dataForCost)"
      ],
      "execution_count": 332,
      "outputs": [
        {
          "output_type": "stream",
          "text": [
            "Cost for false predicition: $2960\n",
            "Cost lost due to wrong predicution: $21526\n",
            "total Cost $24486\n"
          ],
          "name": "stdout"
        }
      ]
    },
    {
      "cell_type": "code",
      "metadata": {
        "id": "ObGe-AloGtmg",
        "colab_type": "code",
        "colab": {}
      },
      "source": [
        ""
      ],
      "execution_count": 0,
      "outputs": []
    },
    {
      "cell_type": "markdown",
      "metadata": {
        "id": "DvFDnfeUIW3I",
        "colab_type": "text"
      },
      "source": [
        "## Data Modeling for test data\n",
        "\n",
        "Based on the above calculations,  Logistic regression seems to be cost effective compare to other models, however, the accuracy is high for Random Forest that of Logistic regression. Hence, it would be better to go with Logistic regression as it gives more cost effective model."
      ]
    },
    {
      "cell_type": "code",
      "metadata": {
        "id": "FdmySmhbIcqt",
        "colab_type": "code",
        "colab": {
          "base_uri": "https://localhost:8080/",
          "height": 326
        },
        "outputId": "a79f427e-d509-444a-82ce-dd271a059df2"
      },
      "source": [
        "path = \"/content/drive/My Drive/FinalProject/datasetForFinalTest.csv\"\n",
        "testData = pd.read_csv(path)\n",
        "testData.head()"
      ],
      "execution_count": 339,
      "outputs": [
        {
          "output_type": "execute_result",
          "data": {
            "text/html": [
              "<div>\n",
              "<style scoped>\n",
              "    .dataframe tbody tr th:only-of-type {\n",
              "        vertical-align: middle;\n",
              "    }\n",
              "\n",
              "    .dataframe tbody tr th {\n",
              "        vertical-align: top;\n",
              "    }\n",
              "\n",
              "    .dataframe thead th {\n",
              "        text-align: right;\n",
              "    }\n",
              "</style>\n",
              "<table border=\"1\" class=\"dataframe\">\n",
              "  <thead>\n",
              "    <tr style=\"text-align: right;\">\n",
              "      <th></th>\n",
              "      <th>Column 1</th>\n",
              "      <th>user_id</th>\n",
              "      <th>signup_time</th>\n",
              "      <th>purchase_time</th>\n",
              "      <th>signup_time-purchase_time</th>\n",
              "      <th>purchase_value</th>\n",
              "      <th>device_id</th>\n",
              "      <th>source</th>\n",
              "      <th>browser</th>\n",
              "      <th>sex</th>\n",
              "      <th>age</th>\n",
              "      <th>ip_address</th>\n",
              "      <th>N[device_id]</th>\n",
              "    </tr>\n",
              "  </thead>\n",
              "  <tbody>\n",
              "    <tr>\n",
              "      <th>0</th>\n",
              "      <td>73178</td>\n",
              "      <td>328855</td>\n",
              "      <td>03/11/2015 12:54 AM</td>\n",
              "      <td>04/05/2015 12:23 PM</td>\n",
              "      <td>36689</td>\n",
              "      <td>16</td>\n",
              "      <td>VCCTAYDCWKZIY</td>\n",
              "      <td>Direct</td>\n",
              "      <td>IE</td>\n",
              "      <td>M</td>\n",
              "      <td>26</td>\n",
              "      <td>2.727760e+09</td>\n",
              "      <td>1</td>\n",
              "    </tr>\n",
              "    <tr>\n",
              "      <th>1</th>\n",
              "      <td>63154</td>\n",
              "      <td>328496</td>\n",
              "      <td>07/23/2015 12:48 PM</td>\n",
              "      <td>10/20/2015 1:01 PM</td>\n",
              "      <td>128173</td>\n",
              "      <td>40</td>\n",
              "      <td>HTOCRWCBYIQJI</td>\n",
              "      <td>Ads</td>\n",
              "      <td>Safari</td>\n",
              "      <td>M</td>\n",
              "      <td>33</td>\n",
              "      <td>2.185371e+09</td>\n",
              "      <td>1</td>\n",
              "    </tr>\n",
              "    <tr>\n",
              "      <th>2</th>\n",
              "      <td>45469</td>\n",
              "      <td>97677</td>\n",
              "      <td>05/11/2015 2:28 AM</td>\n",
              "      <td>07/20/2015 9:37 PM</td>\n",
              "      <td>101949</td>\n",
              "      <td>79</td>\n",
              "      <td>GNVLAANUJMKFC</td>\n",
              "      <td>SEO</td>\n",
              "      <td>Chrome</td>\n",
              "      <td>F</td>\n",
              "      <td>27</td>\n",
              "      <td>2.821272e+09</td>\n",
              "      <td>2</td>\n",
              "    </tr>\n",
              "    <tr>\n",
              "      <th>3</th>\n",
              "      <td>64425</td>\n",
              "      <td>272080</td>\n",
              "      <td>06/23/2015 12:15 PM</td>\n",
              "      <td>08/26/2015 1:42 AM</td>\n",
              "      <td>91527</td>\n",
              "      <td>40</td>\n",
              "      <td>NBCCGOYVYSVAV</td>\n",
              "      <td>SEO</td>\n",
              "      <td>FireFox</td>\n",
              "      <td>M</td>\n",
              "      <td>20</td>\n",
              "      <td>1.074954e+09</td>\n",
              "      <td>1</td>\n",
              "    </tr>\n",
              "    <tr>\n",
              "      <th>4</th>\n",
              "      <td>125042</td>\n",
              "      <td>341169</td>\n",
              "      <td>03/08/2015 1:08 PM</td>\n",
              "      <td>05/15/2015 6:48 AM</td>\n",
              "      <td>97540</td>\n",
              "      <td>43</td>\n",
              "      <td>YQWZFJBVAAGEI</td>\n",
              "      <td>SEO</td>\n",
              "      <td>IE</td>\n",
              "      <td>M</td>\n",
              "      <td>40</td>\n",
              "      <td>2.981257e+09</td>\n",
              "      <td>1</td>\n",
              "    </tr>\n",
              "  </tbody>\n",
              "</table>\n",
              "</div>"
            ],
            "text/plain": [
              "   Column 1  user_id          signup_time  ... age    ip_address  N[device_id]\n",
              "0     73178   328855  03/11/2015 12:54 AM  ...  26  2.727760e+09             1\n",
              "1     63154   328496  07/23/2015 12:48 PM  ...  33  2.185371e+09             1\n",
              "2     45469    97677   05/11/2015 2:28 AM  ...  27  2.821272e+09             2\n",
              "3     64425   272080  06/23/2015 12:15 PM  ...  20  1.074954e+09             1\n",
              "4    125042   341169   03/08/2015 1:08 PM  ...  40  2.981257e+09             1\n",
              "\n",
              "[5 rows x 13 columns]"
            ]
          },
          "metadata": {
            "tags": []
          },
          "execution_count": 339
        }
      ]
    },
    {
      "cell_type": "code",
      "metadata": {
        "id": "W_h0QMFzIygz",
        "colab_type": "code",
        "colab": {
          "base_uri": "https://localhost:8080/",
          "height": 105
        },
        "outputId": "3726ae91-f6ea-4213-da46-125afb6a66e1"
      },
      "source": [
        "dataTestCopy = testData.copy()\n",
        "testData.drop(columns = [\"Column 1\", \"user_id\",\"device_id\",\"signup_time\",\"purchase_time\",\"ip_address\"], inplace=True)\n",
        "testData[\"sex\"] = testData[\"sex\"].map({'M':1,'F':0})\n",
        "num_columns = testData[['signup_time-purchase_time','purchase_value','age','sex','N[device_id]']]\n",
        "stdScalar = ss()\n",
        "stdScalar.fit(num_columns)\n",
        "scaled_TestTransactions = stdScalar.transform(num_columns)\n",
        "df_testscaledTransactions = pd.DataFrame(scaled_TestTransactions) #, index=scaled_Transactions.index, columns=num_columns)\n",
        "df_testscaledTransactions.columns = ['signup_time-purchase_time','purchase_value','age','sex','N[device_id]']\n",
        "browser_testtransactions = pd.get_dummies(testData.browser, prefix='Browser').iloc[:,1:]\n",
        "source_testtransactions = pd.get_dummies(testData.source, prefix='Source').iloc[:,1:]\n",
        "X_testtransAndScaledData = pd.concat([df_testscaledTransactions, browser_testtransactions, source_testtransactions], axis=1)"
      ],
      "execution_count": 340,
      "outputs": [
        {
          "output_type": "stream",
          "text": [
            "/usr/local/lib/python3.6/dist-packages/sklearn/preprocessing/data.py:645: DataConversionWarning: Data with input dtype int64 were all converted to float64 by StandardScaler.\n",
            "  return self.partial_fit(X, y)\n",
            "/usr/local/lib/python3.6/dist-packages/ipykernel_launcher.py:7: DataConversionWarning: Data with input dtype int64 were all converted to float64 by StandardScaler.\n",
            "  import sys\n"
          ],
          "name": "stderr"
        }
      ]
    },
    {
      "cell_type": "code",
      "metadata": {
        "id": "o-0JMItKJ5p9",
        "colab_type": "code",
        "colab": {
          "base_uri": "https://localhost:8080/",
          "height": 289
        },
        "outputId": "a3ece0de-b35d-42d7-92dc-8787c74dd2ab"
      },
      "source": [
        "X_testtransAndScaledData.info()"
      ],
      "execution_count": 341,
      "outputs": [
        {
          "output_type": "stream",
          "text": [
            "<class 'pandas.core.frame.DataFrame'>\n",
            "RangeIndex: 13413 entries, 0 to 13412\n",
            "Data columns (total 11 columns):\n",
            "signup_time-purchase_time    13413 non-null float64\n",
            "purchase_value               13413 non-null float64\n",
            "age                          13413 non-null float64\n",
            "sex                          13413 non-null float64\n",
            "N[device_id]                 13413 non-null float64\n",
            "Browser_FireFox              13413 non-null uint8\n",
            "Browser_IE                   13413 non-null uint8\n",
            "Browser_Opera                13413 non-null uint8\n",
            "Browser_Safari               13413 non-null uint8\n",
            "Source_Direct                13413 non-null uint8\n",
            "Source_SEO                   13413 non-null uint8\n",
            "dtypes: float64(5), uint8(6)\n",
            "memory usage: 602.6 KB\n"
          ],
          "name": "stdout"
        }
      ]
    },
    {
      "cell_type": "code",
      "metadata": {
        "id": "XgMGvLr8J8La",
        "colab_type": "code",
        "colab": {
          "base_uri": "https://localhost:8080/",
          "height": 241
        },
        "outputId": "7fea1af8-448b-4e70-d6eb-e79c488ea459"
      },
      "source": [
        "X_testtransAndScaledData.head()"
      ],
      "execution_count": 342,
      "outputs": [
        {
          "output_type": "execute_result",
          "data": {
            "text/html": [
              "<div>\n",
              "<style scoped>\n",
              "    .dataframe tbody tr th:only-of-type {\n",
              "        vertical-align: middle;\n",
              "    }\n",
              "\n",
              "    .dataframe tbody tr th {\n",
              "        vertical-align: top;\n",
              "    }\n",
              "\n",
              "    .dataframe thead th {\n",
              "        text-align: right;\n",
              "    }\n",
              "</style>\n",
              "<table border=\"1\" class=\"dataframe\">\n",
              "  <thead>\n",
              "    <tr style=\"text-align: right;\">\n",
              "      <th></th>\n",
              "      <th>signup_time-purchase_time</th>\n",
              "      <th>purchase_value</th>\n",
              "      <th>age</th>\n",
              "      <th>sex</th>\n",
              "      <th>N[device_id]</th>\n",
              "      <th>Browser_FireFox</th>\n",
              "      <th>Browser_IE</th>\n",
              "      <th>Browser_Opera</th>\n",
              "      <th>Browser_Safari</th>\n",
              "      <th>Source_Direct</th>\n",
              "      <th>Source_SEO</th>\n",
              "    </tr>\n",
              "  </thead>\n",
              "  <tbody>\n",
              "    <tr>\n",
              "      <th>0</th>\n",
              "      <td>-0.883410</td>\n",
              "      <td>-1.143551</td>\n",
              "      <td>-0.835293</td>\n",
              "      <td>0.840141</td>\n",
              "      <td>-0.258280</td>\n",
              "      <td>0</td>\n",
              "      <td>1</td>\n",
              "      <td>0</td>\n",
              "      <td>0</td>\n",
              "      <td>1</td>\n",
              "      <td>0</td>\n",
              "    </tr>\n",
              "    <tr>\n",
              "      <th>1</th>\n",
              "      <td>0.873579</td>\n",
              "      <td>0.176463</td>\n",
              "      <td>-0.015378</td>\n",
              "      <td>0.840141</td>\n",
              "      <td>-0.258280</td>\n",
              "      <td>0</td>\n",
              "      <td>0</td>\n",
              "      <td>0</td>\n",
              "      <td>1</td>\n",
              "      <td>0</td>\n",
              "      <td>0</td>\n",
              "    </tr>\n",
              "    <tr>\n",
              "      <th>2</th>\n",
              "      <td>0.369936</td>\n",
              "      <td>2.321485</td>\n",
              "      <td>-0.718163</td>\n",
              "      <td>-1.190276</td>\n",
              "      <td>0.214921</td>\n",
              "      <td>0</td>\n",
              "      <td>0</td>\n",
              "      <td>0</td>\n",
              "      <td>0</td>\n",
              "      <td>0</td>\n",
              "      <td>1</td>\n",
              "    </tr>\n",
              "    <tr>\n",
              "      <th>3</th>\n",
              "      <td>0.169777</td>\n",
              "      <td>0.176463</td>\n",
              "      <td>-1.538078</td>\n",
              "      <td>0.840141</td>\n",
              "      <td>-0.258280</td>\n",
              "      <td>1</td>\n",
              "      <td>0</td>\n",
              "      <td>0</td>\n",
              "      <td>0</td>\n",
              "      <td>0</td>\n",
              "      <td>1</td>\n",
              "    </tr>\n",
              "    <tr>\n",
              "      <th>4</th>\n",
              "      <td>0.285259</td>\n",
              "      <td>0.341464</td>\n",
              "      <td>0.804537</td>\n",
              "      <td>0.840141</td>\n",
              "      <td>-0.258280</td>\n",
              "      <td>0</td>\n",
              "      <td>1</td>\n",
              "      <td>0</td>\n",
              "      <td>0</td>\n",
              "      <td>0</td>\n",
              "      <td>1</td>\n",
              "    </tr>\n",
              "  </tbody>\n",
              "</table>\n",
              "</div>"
            ],
            "text/plain": [
              "   signup_time-purchase_time  purchase_value  ...  Source_Direct  Source_SEO\n",
              "0                  -0.883410       -1.143551  ...              1           0\n",
              "1                   0.873579        0.176463  ...              0           0\n",
              "2                   0.369936        2.321485  ...              0           1\n",
              "3                   0.169777        0.176463  ...              0           1\n",
              "4                   0.285259        0.341464  ...              0           1\n",
              "\n",
              "[5 rows x 11 columns]"
            ]
          },
          "metadata": {
            "tags": []
          },
          "execution_count": 342
        }
      ]
    },
    {
      "cell_type": "code",
      "metadata": {
        "id": "ses7Z7HdJ_Ya",
        "colab_type": "code",
        "colab": {
          "base_uri": "https://localhost:8080/",
          "height": 71
        },
        "outputId": "c67ff857-3238-4e29-9909-6aa0b9b4dd12"
      },
      "source": [
        "lr = LogisticRegression()\n",
        "lr.fit(X_res, y_res)\n",
        "Y_pred = lr.predict(X_testtransAndScaledData)"
      ],
      "execution_count": 349,
      "outputs": [
        {
          "output_type": "stream",
          "text": [
            "/usr/local/lib/python3.6/dist-packages/sklearn/linear_model/logistic.py:433: FutureWarning: Default solver will be changed to 'lbfgs' in 0.22. Specify a solver to silence this warning.\n",
            "  FutureWarning)\n"
          ],
          "name": "stderr"
        }
      ]
    },
    {
      "cell_type": "code",
      "metadata": {
        "id": "wfhtIk6oLlkK",
        "colab_type": "code",
        "colab": {}
      },
      "source": [
        "Y_pred.tofile(\"submissionChandrasekaranNageswaran.csv\",sep=\",\")"
      ],
      "execution_count": 0,
      "outputs": []
    },
    {
      "cell_type": "code",
      "metadata": {
        "id": "H4Az2AGeNRgX",
        "colab_type": "code",
        "colab": {}
      },
      "source": [
        ""
      ],
      "execution_count": 0,
      "outputs": []
    }
  ]
}